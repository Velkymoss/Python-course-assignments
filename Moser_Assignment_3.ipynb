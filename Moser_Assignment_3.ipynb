{
 "cells": [
  {
   "cell_type": "code",
   "execution_count": 1,
   "metadata": {},
   "outputs": [],
   "source": [
    "import numpy as np\n",
    "import pandas as pd\n",
    "from sklearn.linear_model import LogisticRegression\n",
    "from sklearn.model_selection import train_test_split\n",
    "from sklearn import preprocessing\n",
    "from sklearn.metrics import accuracy_score\n",
    "from sklearn.model_selection import cross_val_score\n",
    "from sklearn.metrics import confusion_matrix\n",
    "import matplotlib as mpl\n",
    "import matplotlib.pyplot as plt\n",
    "import statsmodels.api as sm"
   ]
  },
  {
   "cell_type": "markdown",
   "metadata": {},
   "source": [
    "### Introduction"
   ]
  },
  {
   "cell_type": "markdown",
   "metadata": {},
   "source": [
    "This short data analysis project tries to answer the question what extent attitudes towards migration affected the decision to vote in the 2017 Austrian National Council election. The following hypothesis will be tested: The more negative a person was towards the issue of migration, the more likely they voted for the FPÖ or the ÖVP. Using the Michigan-Modell (Campbell et al., 1960) on a theoretical basis, a multinominal logistic regression has been conducted to solve the research problem. The European Social Survey (2018) was used as the data set for the investigation."
   ]
  },
  {
   "cell_type": "markdown",
   "metadata": {},
   "source": [
    "### Variables"
   ]
  },
  {
   "cell_type": "markdown",
   "metadata": {},
   "source": [
    "Here is a short listing of the variables used for the analysis:\n",
    "#### Dependent variable:\n",
    "Party voted for in Austrian national council election 2017 (prtvtcat)\n",
    "#### Independent variable:\n",
    "Attitude toward migration (migindex)\n",
    "#### Control variables:\n",
    "Party identity (how close you are to a party over a longer period of time, prtdgcl)\\\n",
    "Education level (edlveat)\\\n",
    "Socio-economic status (was measured in terms of household income, hinctnta)\\\n",
    "Gender (gndr)\\\n",
    "Age (agea)\\\n",
    "Political news consumption (measured in minutes, nwspol)"
   ]
  },
  {
   "cell_type": "markdown",
   "metadata": {},
   "source": [
    "### Loading and formatting the dataset"
   ]
  },
  {
   "cell_type": "code",
   "execution_count": 2,
   "metadata": {},
   "outputs": [],
   "source": [
    "pd.set_option('float_format', '{:f}'.format)"
   ]
  },
  {
   "cell_type": "code",
   "execution_count": 3,
   "metadata": {},
   "outputs": [
    {
     "name": "stderr",
     "output_type": "stream",
     "text": [
      "C:\\Users\\maxmo\\anaconda3\\lib\\site-packages\\IPython\\core\\interactiveshell.py:3146: DtypeWarning: Columns (6,7,9,10,11,12,19,24,25,26,27,28,29,30,31,32,33,34,35,36,37,38,39,40,41,42,43,44,45,46,47,48,49,50,51,52,53,54,55,56,57,58,59,60,61,62,63,64,66,67,68,69,70,71,72,73,74,75,76,77,78,79,80,81,82,83,84,85,86,87,88,89,90,91,92,93,94,97,102,114,115,116,118,119,120,121,122,124,126,127,128,129,130,131,132,133,134,135,136,137,138,139,140,141,142,143,144,147,148,149,150,151,152,153,154,155,156,157,158,159,160,161,162,163,164,165,167,184,185,186,187,191,192,193,194,195,196,197,198,199,200,203,205,207,214,230,231,232,235,236,243,244,245,246,247,248,249,250,251,252,253,259,260,261,262,263,264,265,266,267,273,274,275,276,277,278,279,280,281,283,285,287,288,290,291,292,293,294,295,296,298,299,300,301,302,304,305,306,307,308,309,310,311,312,314,315,317,318,319,320,321,322,323,324,325,326,340,341,359,362,363,369,370,371,372,373,374,375,376,377,378,379,380,381,382,383,384,385,386,387,388,389,390,391,392,393,394,395,396,397,398,399,400,401,416,422,423,424,425,426,427,428,429,430,431,432,433,434,435,436,437,438,439,440,441,442,443,444,445,446,447,448,449,450,451,452,453,454,459,460,461,462,463,464,465,466,467,468,469,470,471,472,473,474,475,476,477,478,479,480,481,482,483,484,485,486,487,488,489,490,491,494,495,496,505,507,531,533,534,535,556,557,558,559,560,561,562) have mixed types.Specify dtype option on import or set low_memory=False.\n",
      "  has_raised = await self.run_ast_nodes(code_ast.body, cell_name,\n"
     ]
    }
   ],
   "source": [
    "df_total = pd.read_csv('C:/Users/maxmo/Desktop/Datasets/ESS9_total.csv')"
   ]
  },
  {
   "cell_type": "code",
   "execution_count": 4,
   "metadata": {},
   "outputs": [],
   "source": [
    "# limiting the dataset to Austria\n",
    "df = df_total.iloc[0:2499, :]"
   ]
  },
  {
   "cell_type": "markdown",
   "metadata": {},
   "source": [
    "### Dependent variable: party voted for in Austrian national council election 2017"
   ]
  },
  {
   "cell_type": "code",
   "execution_count": 5,
   "metadata": {},
   "outputs": [
    {
     "data": {
      "text/plain": [
       "2     604\n",
       "1     573\n",
       ".a    503\n",
       "3     301\n",
       ".b    246\n",
       "5     133\n",
       "7      49\n",
       ".c     41\n",
       "4      29\n",
       "9       9\n",
       "6       8\n",
       "8       3\n",
       "Name: prtvtcat, dtype: int64"
      ]
     },
     "execution_count": 5,
     "metadata": {},
     "output_type": "execute_result"
    }
   ],
   "source": [
    "df.prtvtcat.value_counts(dropna=False)"
   ]
  },
  {
   "cell_type": "code",
   "execution_count": 6,
   "metadata": {},
   "outputs": [
    {
     "name": "stderr",
     "output_type": "stream",
     "text": [
      "C:\\Users\\maxmo\\anaconda3\\lib\\site-packages\\pandas\\core\\indexing.py:1720: SettingWithCopyWarning: \n",
      "A value is trying to be set on a copy of a slice from a DataFrame.\n",
      "Try using .loc[row_indexer,col_indexer] = value instead\n",
      "\n",
      "See the caveats in the documentation: https://pandas.pydata.org/pandas-docs/stable/user_guide/indexing.html#returning-a-view-versus-a-copy\n",
      "  self._setitem_single_column(loc, value, pi)\n"
     ]
    }
   ],
   "source": [
    "for x in ['.a', '.b', '.c']:\n",
    "    df.loc[df.prtvtcat == x, 'prtvtcat'] = np.nan"
   ]
  },
  {
   "cell_type": "code",
   "execution_count": 7,
   "metadata": {},
   "outputs": [
    {
     "name": "stderr",
     "output_type": "stream",
     "text": [
      "C:\\Users\\maxmo\\anaconda3\\lib\\site-packages\\pandas\\core\\generic.py:5494: SettingWithCopyWarning: \n",
      "A value is trying to be set on a copy of a slice from a DataFrame.\n",
      "Try using .loc[row_indexer,col_indexer] = value instead\n",
      "\n",
      "See the caveats in the documentation: https://pandas.pydata.org/pandas-docs/stable/user_guide/indexing.html#returning-a-view-versus-a-copy\n",
      "  self[name] = value\n"
     ]
    }
   ],
   "source": [
    "conversion = {'1':'SPÖ', '2':'ÖVP', '3':'FPÖ', '4':'Pilz', '5':'Grüne', '6':'Other','7':'NEOS','8':'Other', '9':'Other'}\n",
    "df.prtvtcat = df.prtvtcat.map(conversion)"
   ]
  },
  {
   "cell_type": "code",
   "execution_count": 8,
   "metadata": {},
   "outputs": [
    {
     "data": {
      "text/plain": [
       "NaN      790\n",
       "ÖVP      604\n",
       "SPÖ      573\n",
       "FPÖ      301\n",
       "Grüne    133\n",
       "NEOS      49\n",
       "Pilz      29\n",
       "Other     20\n",
       "Name: prtvtcat, dtype: int64"
      ]
     },
     "execution_count": 8,
     "metadata": {},
     "output_type": "execute_result"
    }
   ],
   "source": [
    "df.prtvtcat.value_counts(dropna=False)"
   ]
  },
  {
   "cell_type": "markdown",
   "metadata": {},
   "source": [
    "### Independent variable: creating a migration index"
   ]
  },
  {
   "cell_type": "code",
   "execution_count": 9,
   "metadata": {},
   "outputs": [
    {
     "name": "stdout",
     "output_type": "stream",
     "text": [
      "2     1173\n",
      "3      542\n",
      "1      524\n",
      "4      204\n",
      ".c      43\n",
      ".b      13\n",
      "Name: imsmetn, dtype: int64\n",
      "3     1000\n",
      "2      803\n",
      "4      408\n",
      "1      229\n",
      ".c      41\n",
      ".b      18\n",
      "Name: imdfetn, dtype: int64\n",
      "3     970\n",
      "2     708\n",
      "4     530\n",
      "1     223\n",
      ".c     45\n",
      ".b     23\n",
      "Name: impcntr, dtype: int64\n"
     ]
    }
   ],
   "source": [
    "for i in ['imsmetn','imdfetn', 'impcntr']:\n",
    "    print(df[i].value_counts(dropna=False))"
   ]
  },
  {
   "cell_type": "code",
   "execution_count": 10,
   "metadata": {},
   "outputs": [
    {
     "name": "stdout",
     "output_type": "stream",
     "text": [
      "2      1173\n",
      "3       542\n",
      "1       524\n",
      "4       204\n",
      "NaN      56\n",
      "Name: imsmetn, dtype: int64\n",
      "3      1000\n",
      "2       803\n",
      "4       408\n",
      "1       229\n",
      "NaN      59\n",
      "Name: imdfetn, dtype: int64\n",
      "3      970\n",
      "2      708\n",
      "4      530\n",
      "1      223\n",
      "NaN     68\n",
      "Name: impcntr, dtype: int64\n"
     ]
    }
   ],
   "source": [
    "for i in ['imsmetn','imdfetn', 'impcntr']:\n",
    "    for x in ['.a', '.b', '.c', '.d']:\n",
    "        df.loc[df[i] == x, i] = np.nan \n",
    "    print(df[i].value_counts(dropna=False))"
   ]
  },
  {
   "cell_type": "code",
   "execution_count": 11,
   "metadata": {},
   "outputs": [
    {
     "name": "stdout",
     "output_type": "stream",
     "text": [
      "object\n",
      "object\n",
      "object\n"
     ]
    }
   ],
   "source": [
    "#checking data-types of variables\n",
    "for i in ['imsmetn','imdfetn', 'impcntr']:\n",
    "    print(df[i].dtypes)"
   ]
  },
  {
   "cell_type": "code",
   "execution_count": 12,
   "metadata": {},
   "outputs": [
    {
     "name": "stdout",
     "output_type": "stream",
     "text": [
      "float64\n",
      "float64\n",
      "float64\n"
     ]
    },
    {
     "name": "stderr",
     "output_type": "stream",
     "text": [
      "<ipython-input-12-7a4362bac7cb>:3: SettingWithCopyWarning: \n",
      "A value is trying to be set on a copy of a slice from a DataFrame.\n",
      "Try using .loc[row_indexer,col_indexer] = value instead\n",
      "\n",
      "See the caveats in the documentation: https://pandas.pydata.org/pandas-docs/stable/user_guide/indexing.html#returning-a-view-versus-a-copy\n",
      "  df[j] = df[j].astype(float)\n"
     ]
    }
   ],
   "source": [
    "# changing data type\n",
    "for j in ['imsmetn','imdfetn', 'impcntr']:    \n",
    "    df[j] = df[j].astype(float)\n",
    "    print(df[j].dtypes)"
   ]
  },
  {
   "cell_type": "code",
   "execution_count": 13,
   "metadata": {},
   "outputs": [
    {
     "name": "stderr",
     "output_type": "stream",
     "text": [
      "<ipython-input-13-7d40895d5d60>:1: SettingWithCopyWarning: \n",
      "A value is trying to be set on a copy of a slice from a DataFrame.\n",
      "Try using .loc[row_indexer,col_indexer] = value instead\n",
      "\n",
      "See the caveats in the documentation: https://pandas.pydata.org/pandas-docs/stable/user_guide/indexing.html#returning-a-view-versus-a-copy\n",
      "  df['migindex'] = df[['imsmetn','imdfetn', 'impcntr']].sum(axis=1)\n"
     ]
    }
   ],
   "source": [
    "df['migindex'] = df[['imsmetn','imdfetn', 'impcntr']].sum(axis=1)"
   ]
  },
  {
   "cell_type": "code",
   "execution_count": 14,
   "metadata": {},
   "outputs": [
    {
     "data": {
      "text/html": [
       "<div>\n",
       "<style scoped>\n",
       "    .dataframe tbody tr th:only-of-type {\n",
       "        vertical-align: middle;\n",
       "    }\n",
       "\n",
       "    .dataframe tbody tr th {\n",
       "        vertical-align: top;\n",
       "    }\n",
       "\n",
       "    .dataframe thead th {\n",
       "        text-align: right;\n",
       "    }\n",
       "</style>\n",
       "<table border=\"1\" class=\"dataframe\">\n",
       "  <thead>\n",
       "    <tr style=\"text-align: right;\">\n",
       "      <th></th>\n",
       "      <th>name</th>\n",
       "      <th>essround</th>\n",
       "      <th>edition</th>\n",
       "      <th>proddate</th>\n",
       "      <th>idno</th>\n",
       "      <th>cntry</th>\n",
       "      <th>nwspol</th>\n",
       "      <th>netusoft</th>\n",
       "      <th>netustm</th>\n",
       "      <th>ppltrst</th>\n",
       "      <th>...</th>\n",
       "      <th>inwtm</th>\n",
       "      <th>dweight</th>\n",
       "      <th>pspwght</th>\n",
       "      <th>pweight</th>\n",
       "      <th>anweight</th>\n",
       "      <th>domain</th>\n",
       "      <th>prob</th>\n",
       "      <th>stratum</th>\n",
       "      <th>psu</th>\n",
       "      <th>migindex</th>\n",
       "    </tr>\n",
       "  </thead>\n",
       "  <tbody>\n",
       "    <tr>\n",
       "      <th>0</th>\n",
       "      <td>ESS9e03</td>\n",
       "      <td>9</td>\n",
       "      <td>3</td>\n",
       "      <td>10.12.2020</td>\n",
       "      <td>27</td>\n",
       "      <td>AT</td>\n",
       "      <td>60</td>\n",
       "      <td>5</td>\n",
       "      <td>180</td>\n",
       "      <td>2</td>\n",
       "      <td>...</td>\n",
       "      <td>46.000000</td>\n",
       "      <td>0.581174</td>\n",
       "      <td>0.218111</td>\n",
       "      <td>0.302091</td>\n",
       "      <td>0.065890</td>\n",
       "      <td>2.000000</td>\n",
       "      <td>0.001176</td>\n",
       "      <td>59</td>\n",
       "      <td>1688</td>\n",
       "      <td>6.000000</td>\n",
       "    </tr>\n",
       "    <tr>\n",
       "      <th>1</th>\n",
       "      <td>ESS9e03</td>\n",
       "      <td>9</td>\n",
       "      <td>3</td>\n",
       "      <td>10.12.2020</td>\n",
       "      <td>137</td>\n",
       "      <td>AT</td>\n",
       "      <td>10</td>\n",
       "      <td>5</td>\n",
       "      <td>20</td>\n",
       "      <td>7</td>\n",
       "      <td>...</td>\n",
       "      <td>73.000000</td>\n",
       "      <td>1.062772</td>\n",
       "      <td>0.413473</td>\n",
       "      <td>0.302091</td>\n",
       "      <td>0.124907</td>\n",
       "      <td>2.000000</td>\n",
       "      <td>0.000643</td>\n",
       "      <td>79</td>\n",
       "      <td>88</td>\n",
       "      <td>8.000000</td>\n",
       "    </tr>\n",
       "    <tr>\n",
       "      <th>2</th>\n",
       "      <td>ESS9e03</td>\n",
       "      <td>9</td>\n",
       "      <td>3</td>\n",
       "      <td>10.12.2020</td>\n",
       "      <td>194</td>\n",
       "      <td>AT</td>\n",
       "      <td>60</td>\n",
       "      <td>4</td>\n",
       "      <td>180</td>\n",
       "      <td>5</td>\n",
       "      <td>...</td>\n",
       "      <td>92.000000</td>\n",
       "      <td>1.376509</td>\n",
       "      <td>2.270293</td>\n",
       "      <td>0.302091</td>\n",
       "      <td>0.685836</td>\n",
       "      <td>2.000000</td>\n",
       "      <td>0.000496</td>\n",
       "      <td>11</td>\n",
       "      <td>938</td>\n",
       "      <td>7.000000</td>\n",
       "    </tr>\n",
       "    <tr>\n",
       "      <th>3</th>\n",
       "      <td>ESS9e03</td>\n",
       "      <td>9</td>\n",
       "      <td>3</td>\n",
       "      <td>10.12.2020</td>\n",
       "      <td>208</td>\n",
       "      <td>AT</td>\n",
       "      <td>45</td>\n",
       "      <td>5</td>\n",
       "      <td>120</td>\n",
       "      <td>3</td>\n",
       "      <td>...</td>\n",
       "      <td>134.000000</td>\n",
       "      <td>0.993399</td>\n",
       "      <td>0.386483</td>\n",
       "      <td>0.302091</td>\n",
       "      <td>0.116753</td>\n",
       "      <td>2.000000</td>\n",
       "      <td>0.000688</td>\n",
       "      <td>74</td>\n",
       "      <td>1998</td>\n",
       "      <td>8.000000</td>\n",
       "    </tr>\n",
       "    <tr>\n",
       "      <th>4</th>\n",
       "      <td>ESS9e03</td>\n",
       "      <td>9</td>\n",
       "      <td>3</td>\n",
       "      <td>10.12.2020</td>\n",
       "      <td>220</td>\n",
       "      <td>AT</td>\n",
       "      <td>30</td>\n",
       "      <td>1</td>\n",
       "      <td>.a</td>\n",
       "      <td>5</td>\n",
       "      <td>...</td>\n",
       "      <td>40.000000</td>\n",
       "      <td>0.377353</td>\n",
       "      <td>1.032102</td>\n",
       "      <td>0.302091</td>\n",
       "      <td>0.311789</td>\n",
       "      <td>2.000000</td>\n",
       "      <td>0.001811</td>\n",
       "      <td>99</td>\n",
       "      <td>601</td>\n",
       "      <td>9.000000</td>\n",
       "    </tr>\n",
       "  </tbody>\n",
       "</table>\n",
       "<p>5 rows × 573 columns</p>\n",
       "</div>"
      ],
      "text/plain": [
       "      name  essround  edition    proddate  idno cntry nwspol netusoft netustm  \\\n",
       "0  ESS9e03         9        3  10.12.2020    27    AT     60        5     180   \n",
       "1  ESS9e03         9        3  10.12.2020   137    AT     10        5      20   \n",
       "2  ESS9e03         9        3  10.12.2020   194    AT     60        4     180   \n",
       "3  ESS9e03         9        3  10.12.2020   208    AT     45        5     120   \n",
       "4  ESS9e03         9        3  10.12.2020   220    AT     30        1      .a   \n",
       "\n",
       "  ppltrst  ...      inwtm  dweight  pspwght  pweight anweight   domain  \\\n",
       "0       2  ...  46.000000 0.581174 0.218111 0.302091 0.065890 2.000000   \n",
       "1       7  ...  73.000000 1.062772 0.413473 0.302091 0.124907 2.000000   \n",
       "2       5  ...  92.000000 1.376509 2.270293 0.302091 0.685836 2.000000   \n",
       "3       3  ... 134.000000 0.993399 0.386483 0.302091 0.116753 2.000000   \n",
       "4       5  ...  40.000000 0.377353 1.032102 0.302091 0.311789 2.000000   \n",
       "\n",
       "      prob stratum   psu migindex  \n",
       "0 0.001176      59  1688 6.000000  \n",
       "1 0.000643      79    88 8.000000  \n",
       "2 0.000496      11   938 7.000000  \n",
       "3 0.000688      74  1998 8.000000  \n",
       "4 0.001811      99   601 9.000000  \n",
       "\n",
       "[5 rows x 573 columns]"
      ]
     },
     "execution_count": 14,
     "metadata": {},
     "output_type": "execute_result"
    }
   ],
   "source": [
    "df.head()"
   ]
  },
  {
   "cell_type": "code",
   "execution_count": 15,
   "metadata": {},
   "outputs": [
    {
     "data": {
      "text/html": [
       "<div>\n",
       "<style scoped>\n",
       "    .dataframe tbody tr th:only-of-type {\n",
       "        vertical-align: middle;\n",
       "    }\n",
       "\n",
       "    .dataframe tbody tr th {\n",
       "        vertical-align: top;\n",
       "    }\n",
       "\n",
       "    .dataframe thead th {\n",
       "        text-align: right;\n",
       "    }\n",
       "</style>\n",
       "<table border=\"1\" class=\"dataframe\">\n",
       "  <thead>\n",
       "    <tr style=\"text-align: right;\">\n",
       "      <th></th>\n",
       "      <th>essround</th>\n",
       "      <th>edition</th>\n",
       "      <th>idno</th>\n",
       "      <th>imsmetn</th>\n",
       "      <th>imdfetn</th>\n",
       "      <th>impcntr</th>\n",
       "      <th>dscrrce</th>\n",
       "      <th>dscrntn</th>\n",
       "      <th>dscrrlg</th>\n",
       "      <th>dscrlng</th>\n",
       "      <th>...</th>\n",
       "      <th>inwtm</th>\n",
       "      <th>dweight</th>\n",
       "      <th>pspwght</th>\n",
       "      <th>pweight</th>\n",
       "      <th>anweight</th>\n",
       "      <th>domain</th>\n",
       "      <th>prob</th>\n",
       "      <th>stratum</th>\n",
       "      <th>psu</th>\n",
       "      <th>migindex</th>\n",
       "    </tr>\n",
       "    <tr>\n",
       "      <th>prtvtcat</th>\n",
       "      <th></th>\n",
       "      <th></th>\n",
       "      <th></th>\n",
       "      <th></th>\n",
       "      <th></th>\n",
       "      <th></th>\n",
       "      <th></th>\n",
       "      <th></th>\n",
       "      <th></th>\n",
       "      <th></th>\n",
       "      <th></th>\n",
       "      <th></th>\n",
       "      <th></th>\n",
       "      <th></th>\n",
       "      <th></th>\n",
       "      <th></th>\n",
       "      <th></th>\n",
       "      <th></th>\n",
       "      <th></th>\n",
       "      <th></th>\n",
       "      <th></th>\n",
       "    </tr>\n",
       "  </thead>\n",
       "  <tbody>\n",
       "    <tr>\n",
       "      <th>FPÖ</th>\n",
       "      <td>9.000000</td>\n",
       "      <td>3.000000</td>\n",
       "      <td>37021.083056</td>\n",
       "      <td>2.522184</td>\n",
       "      <td>3.194631</td>\n",
       "      <td>3.268456</td>\n",
       "      <td>0.000000</td>\n",
       "      <td>0.006645</td>\n",
       "      <td>0.006645</td>\n",
       "      <td>0.006645</td>\n",
       "      <td>...</td>\n",
       "      <td>65.737542</td>\n",
       "      <td>0.974947</td>\n",
       "      <td>0.865829</td>\n",
       "      <td>0.302091</td>\n",
       "      <td>0.261560</td>\n",
       "      <td>1.827243</td>\n",
       "      <td>0.000858</td>\n",
       "      <td>51.810631</td>\n",
       "      <td>918.920266</td>\n",
       "      <td>8.853821</td>\n",
       "    </tr>\n",
       "    <tr>\n",
       "      <th>ÖVP</th>\n",
       "      <td>9.000000</td>\n",
       "      <td>3.000000</td>\n",
       "      <td>34065.966887</td>\n",
       "      <td>2.203020</td>\n",
       "      <td>2.794266</td>\n",
       "      <td>2.903553</td>\n",
       "      <td>0.003311</td>\n",
       "      <td>0.004967</td>\n",
       "      <td>0.004967</td>\n",
       "      <td>0.000000</td>\n",
       "      <td>...</td>\n",
       "      <td>64.894040</td>\n",
       "      <td>1.018056</td>\n",
       "      <td>0.926596</td>\n",
       "      <td>0.302091</td>\n",
       "      <td>0.279917</td>\n",
       "      <td>1.865894</td>\n",
       "      <td>0.000832</td>\n",
       "      <td>53.087748</td>\n",
       "      <td>959.826159</td>\n",
       "      <td>7.758278</td>\n",
       "    </tr>\n",
       "    <tr>\n",
       "      <th>SPÖ</th>\n",
       "      <td>9.000000</td>\n",
       "      <td>3.000000</td>\n",
       "      <td>34208.322862</td>\n",
       "      <td>2.021127</td>\n",
       "      <td>2.466549</td>\n",
       "      <td>2.596803</td>\n",
       "      <td>0.003490</td>\n",
       "      <td>0.006981</td>\n",
       "      <td>0.017452</td>\n",
       "      <td>0.005236</td>\n",
       "      <td>...</td>\n",
       "      <td>67.677138</td>\n",
       "      <td>0.953119</td>\n",
       "      <td>0.947246</td>\n",
       "      <td>0.302091</td>\n",
       "      <td>0.286155</td>\n",
       "      <td>1.741710</td>\n",
       "      <td>0.000859</td>\n",
       "      <td>47.809773</td>\n",
       "      <td>946.462478</td>\n",
       "      <td>7.000000</td>\n",
       "    </tr>\n",
       "    <tr>\n",
       "      <th>Other</th>\n",
       "      <td>9.000000</td>\n",
       "      <td>3.000000</td>\n",
       "      <td>31298.450000</td>\n",
       "      <td>1.850000</td>\n",
       "      <td>2.100000</td>\n",
       "      <td>2.150000</td>\n",
       "      <td>0.000000</td>\n",
       "      <td>0.000000</td>\n",
       "      <td>0.000000</td>\n",
       "      <td>0.000000</td>\n",
       "      <td>...</td>\n",
       "      <td>61.800000</td>\n",
       "      <td>0.944713</td>\n",
       "      <td>1.014156</td>\n",
       "      <td>0.302091</td>\n",
       "      <td>0.306368</td>\n",
       "      <td>1.700000</td>\n",
       "      <td>0.000823</td>\n",
       "      <td>47.900000</td>\n",
       "      <td>1090.150000</td>\n",
       "      <td>6.100000</td>\n",
       "    </tr>\n",
       "    <tr>\n",
       "      <th>NEOS</th>\n",
       "      <td>9.000000</td>\n",
       "      <td>3.000000</td>\n",
       "      <td>35017.836735</td>\n",
       "      <td>1.645833</td>\n",
       "      <td>2.191489</td>\n",
       "      <td>2.395833</td>\n",
       "      <td>0.000000</td>\n",
       "      <td>0.020408</td>\n",
       "      <td>0.040816</td>\n",
       "      <td>0.000000</td>\n",
       "      <td>...</td>\n",
       "      <td>64.897959</td>\n",
       "      <td>1.041441</td>\n",
       "      <td>1.090862</td>\n",
       "      <td>0.302091</td>\n",
       "      <td>0.329540</td>\n",
       "      <td>1.734694</td>\n",
       "      <td>0.000810</td>\n",
       "      <td>51.877551</td>\n",
       "      <td>1006.897959</td>\n",
       "      <td>6.061224</td>\n",
       "    </tr>\n",
       "  </tbody>\n",
       "</table>\n",
       "<p>5 rows × 64 columns</p>\n",
       "</div>"
      ],
      "text/plain": [
       "          essround  edition         idno  imsmetn  imdfetn  impcntr  dscrrce  \\\n",
       "prtvtcat                                                                       \n",
       "FPÖ       9.000000 3.000000 37021.083056 2.522184 3.194631 3.268456 0.000000   \n",
       "ÖVP       9.000000 3.000000 34065.966887 2.203020 2.794266 2.903553 0.003311   \n",
       "SPÖ       9.000000 3.000000 34208.322862 2.021127 2.466549 2.596803 0.003490   \n",
       "Other     9.000000 3.000000 31298.450000 1.850000 2.100000 2.150000 0.000000   \n",
       "NEOS      9.000000 3.000000 35017.836735 1.645833 2.191489 2.395833 0.000000   \n",
       "\n",
       "          dscrntn  dscrrlg  dscrlng  ...     inwtm  dweight  pspwght  pweight  \\\n",
       "prtvtcat                             ...                                        \n",
       "FPÖ      0.006645 0.006645 0.006645  ... 65.737542 0.974947 0.865829 0.302091   \n",
       "ÖVP      0.004967 0.004967 0.000000  ... 64.894040 1.018056 0.926596 0.302091   \n",
       "SPÖ      0.006981 0.017452 0.005236  ... 67.677138 0.953119 0.947246 0.302091   \n",
       "Other    0.000000 0.000000 0.000000  ... 61.800000 0.944713 1.014156 0.302091   \n",
       "NEOS     0.020408 0.040816 0.000000  ... 64.897959 1.041441 1.090862 0.302091   \n",
       "\n",
       "          anweight   domain     prob   stratum         psu  migindex  \n",
       "prtvtcat                                                              \n",
       "FPÖ       0.261560 1.827243 0.000858 51.810631  918.920266  8.853821  \n",
       "ÖVP       0.279917 1.865894 0.000832 53.087748  959.826159  7.758278  \n",
       "SPÖ       0.286155 1.741710 0.000859 47.809773  946.462478  7.000000  \n",
       "Other     0.306368 1.700000 0.000823 47.900000 1090.150000  6.100000  \n",
       "NEOS      0.329540 1.734694 0.000810 51.877551 1006.897959  6.061224  \n",
       "\n",
       "[5 rows x 64 columns]"
      ]
     },
     "execution_count": 15,
     "metadata": {},
     "output_type": "execute_result"
    }
   ],
   "source": [
    "# looking at means of the migration index by political party\n",
    "migmean = df.groupby(['prtvtcat']).mean().sort_values('migindex', ascending=False)\n",
    "migmean.head()"
   ]
  },
  {
   "cell_type": "code",
   "execution_count": 16,
   "metadata": {},
   "outputs": [
    {
     "data": {
      "image/png": "[encoded data removed]",
      "text/plain": [
       "<Figure size 576x360 with 1 Axes>"
      ]
     },
     "metadata": {
      "needs_background": "light"
     },
     "output_type": "display_data"
    }
   ],
   "source": [
    "#displaying the distribution of the migration-index\n",
    "labels = ['FPÖ', 'ÖVP', 'SPÖ', 'Other', 'NEOS', 'Pilz', 'Grüne']\n",
    "values = migmean['migindex']\n",
    "plt.figure(figsize=(8, 5))\n",
    "plt.bar(labels, values)\n",
    "plt.title('Issue migration', fontdict={'fontweight':'bold', 'fontsize': 18})\n",
    "plt.xlabel('Parties')\n",
    "plt.ylabel('Indexscore')\n",
    "plt.show()"
   ]
  },
  {
   "cell_type": "markdown",
   "metadata": {},
   "source": [
    "The higher the Index score, the more negativ the issue of migration is seen by the voters of a party."
   ]
  },
  {
   "cell_type": "markdown",
   "metadata": {},
   "source": [
    "### Control variable: Party identity"
   ]
  },
  {
   "cell_type": "code",
   "execution_count": 17,
   "metadata": {},
   "outputs": [
    {
     "name": "stdout",
     "output_type": "stream",
     "text": [
      ".a    1304\n",
      "2      752\n",
      "3      217\n",
      "1      199\n",
      ".c      13\n",
      "4       11\n",
      ".b       3\n",
      "Name: prtdgcl, dtype: int64\n",
      "object\n"
     ]
    }
   ],
   "source": [
    "print(df.prtdgcl.value_counts(dropna=False))\n",
    "print(df['prtdgcl'].dtypes)"
   ]
  },
  {
   "cell_type": "code",
   "execution_count": 18,
   "metadata": {},
   "outputs": [
    {
     "name": "stdout",
     "output_type": "stream",
     "text": [
      "NaN    1320\n",
      "2       752\n",
      "3       217\n",
      "1       199\n",
      "4        11\n",
      "Name: prtdgcl, dtype: int64\n",
      "float64\n"
     ]
    },
    {
     "name": "stderr",
     "output_type": "stream",
     "text": [
      "C:\\Users\\maxmo\\anaconda3\\lib\\site-packages\\pandas\\core\\indexing.py:1720: SettingWithCopyWarning: \n",
      "A value is trying to be set on a copy of a slice from a DataFrame.\n",
      "Try using .loc[row_indexer,col_indexer] = value instead\n",
      "\n",
      "See the caveats in the documentation: https://pandas.pydata.org/pandas-docs/stable/user_guide/indexing.html#returning-a-view-versus-a-copy\n",
      "  self._setitem_single_column(loc, value, pi)\n",
      "<ipython-input-18-4223a18bf898>:4: SettingWithCopyWarning: \n",
      "A value is trying to be set on a copy of a slice from a DataFrame.\n",
      "Try using .loc[row_indexer,col_indexer] = value instead\n",
      "\n",
      "See the caveats in the documentation: https://pandas.pydata.org/pandas-docs/stable/user_guide/indexing.html#returning-a-view-versus-a-copy\n",
      "  df['prtdgcl'] = df['prtdgcl'].astype(float)\n"
     ]
    }
   ],
   "source": [
    "for x in ['.a', '.b', '.c', '.d']:\n",
    "    df.loc[df.prtdgcl == x, 'prtdgcl'] = np.nan  \n",
    "print(df.prtdgcl.value_counts(dropna=False))\n",
    "df['prtdgcl'] = df['prtdgcl'].astype(float)\n",
    "print(df['prtdgcl'].dtypes)"
   ]
  },
  {
   "cell_type": "code",
   "execution_count": 19,
   "metadata": {},
   "outputs": [
    {
     "name": "stdout",
     "output_type": "stream",
     "text": [
      "prtvtcat\n",
      "Other   2.200000\n",
      "NEOS    2.148148\n",
      "ÖVP     2.098592\n",
      "Pilz    2.071429\n",
      "FPÖ     1.955307\n",
      "Grüne   1.927083\n",
      "SPÖ     1.917989\n",
      "Name: prtdgcl, dtype: float64\n"
     ]
    }
   ],
   "source": [
    "pimean = df.groupby(['prtvtcat']).mean().sort_values('prtdgcl', ascending=False)\n",
    "print(pimean['prtdgcl'])"
   ]
  },
  {
   "cell_type": "code",
   "execution_count": 20,
   "metadata": {},
   "outputs": [
    {
     "data": {
      "image/png": "[encoded data removed]",
      "text/plain": [
       "<Figure size 576x360 with 1 Axes>"
      ]
     },
     "metadata": {
      "needs_background": "light"
     },
     "output_type": "display_data"
    }
   ],
   "source": [
    "#displaying the distribution of party identity\n",
    "labels = ['Other', 'NEOS', 'ÖVP', 'Pilz', 'FPÖ', 'Grüne', 'SPÖ']\n",
    "values = pimean['prtdgcl']\n",
    "plt.figure(figsize=(8, 5))\n",
    "plt.bar(labels, values)\n",
    "plt.title('Party identity', fontdict={'fontweight':'bold', 'fontsize': 18})\n",
    "plt.xlabel('Parties')\n",
    "plt.ylabel('Indexscore')\n",
    "plt.show()"
   ]
  },
  {
   "cell_type": "markdown",
   "metadata": {},
   "source": [
    "The lower the Index score, the higher the party identity of a party."
   ]
  },
  {
   "cell_type": "markdown",
   "metadata": {},
   "source": [
    "### Sociodemographics"
   ]
  },
  {
   "cell_type": "markdown",
   "metadata": {},
   "source": [
    "### Education level"
   ]
  },
  {
   "cell_type": "code",
   "execution_count": 21,
   "metadata": {},
   "outputs": [
    {
     "name": "stdout",
     "output_type": "stream",
     "text": [
      "6       554\n",
      "6       401\n",
      "7       185\n",
      "7       136\n",
      "10      122\n",
      "3       121\n",
      "3       100\n",
      "4        99\n",
      "16       77\n",
      "10       76\n",
      "8        75\n",
      "4        65\n",
      "8        60\n",
      "16       51\n",
      "9        44\n",
      "12       34\n",
      "14       29\n",
      "11       28\n",
      "9        24\n",
      "15       23\n",
      "15       20\n",
      "11       20\n",
      "18       19\n",
      "12       17\n",
      "5        16\n",
      "18       14\n",
      "14       14\n",
      "2        13\n",
      "17       12\n",
      "13       11\n",
      "1         9\n",
      "2         8\n",
      "13        8\n",
      "5         7\n",
      ".b        2\n",
      "17        2\n",
      ".c        1\n",
      "5555      1\n",
      "5555      1\n",
      "Name: edlveat, dtype: int64\n",
      "object\n"
     ]
    }
   ],
   "source": [
    "print(df.edlveat.value_counts(dropna=False))\n",
    "print(df['edlveat'].dtypes)"
   ]
  },
  {
   "cell_type": "code",
   "execution_count": 22,
   "metadata": {},
   "outputs": [
    {
     "name": "stdout",
     "output_type": "stream",
     "text": [
      "6       554\n",
      "6       401\n",
      "7       185\n",
      "7       136\n",
      "10      122\n",
      "3       121\n",
      "3       100\n",
      "4        99\n",
      "16       77\n",
      "10       76\n",
      "8        75\n",
      "4        65\n",
      "8        60\n",
      "16       51\n",
      "9        44\n",
      "12       34\n",
      "14       29\n",
      "11       28\n",
      "9        24\n",
      "15       23\n",
      "11       20\n",
      "15       20\n",
      "18       19\n",
      "12       17\n",
      "5        16\n",
      "18       14\n",
      "14       14\n",
      "2        13\n",
      "17       12\n",
      "13       11\n",
      "1         9\n",
      "2         8\n",
      "13        8\n",
      "5         7\n",
      "NaN       4\n",
      "17        2\n",
      "5555      1\n",
      "Name: edlveat, dtype: int64\n",
      "float64\n"
     ]
    },
    {
     "name": "stderr",
     "output_type": "stream",
     "text": [
      "<ipython-input-22-b3b2fef41b87>:4: SettingWithCopyWarning: \n",
      "A value is trying to be set on a copy of a slice from a DataFrame.\n",
      "Try using .loc[row_indexer,col_indexer] = value instead\n",
      "\n",
      "See the caveats in the documentation: https://pandas.pydata.org/pandas-docs/stable/user_guide/indexing.html#returning-a-view-versus-a-copy\n",
      "  df['edlveat'] = df['edlveat'].astype(float)\n"
     ]
    }
   ],
   "source": [
    "for x in ['.a', '.b', '.c', '.d', '5555']:\n",
    "    df.loc[df.edlveat == x, 'edlveat'] = np.nan  \n",
    "print(df.edlveat.value_counts(dropna=False))\n",
    "df['edlveat'] = df['edlveat'].astype(float)\n",
    "print(df['edlveat'].dtypes)"
   ]
  },
  {
   "cell_type": "code",
   "execution_count": 23,
   "metadata": {},
   "outputs": [
    {
     "name": "stdout",
     "output_type": "stream",
     "text": [
      "prtvtcat\n",
      "FPÖ     25.033223\n",
      "Grüne   10.406015\n",
      "Pilz    10.000000\n",
      "NEOS     9.122449\n",
      "Other    9.000000\n",
      "SPÖ      7.756993\n",
      "ÖVP      7.372517\n",
      "Name: edlveat, dtype: float64\n"
     ]
    }
   ],
   "source": [
    "edmean = df.groupby(['prtvtcat']).mean().sort_values('edlveat', ascending=False)\n",
    "print(edmean['edlveat'])"
   ]
  },
  {
   "cell_type": "markdown",
   "metadata": {},
   "source": [
    "### Socio-economic status"
   ]
  },
  {
   "cell_type": "code",
   "execution_count": 24,
   "metadata": {},
   "outputs": [
    {
     "name": "stdout",
     "output_type": "stream",
     "text": [
      ".b    324\n",
      "2     290\n",
      "4     270\n",
      "5     255\n",
      "3     250\n",
      "7     233\n",
      "6     203\n",
      "8     163\n",
      "1     158\n",
      "9     145\n",
      ".c    119\n",
      "10     89\n",
      "Name: hinctnta, dtype: int64\n",
      "object\n"
     ]
    }
   ],
   "source": [
    "print(df.hinctnta.value_counts(dropna=False))\n",
    "print(df['hinctnta'].dtypes)"
   ]
  },
  {
   "cell_type": "code",
   "execution_count": 25,
   "metadata": {},
   "outputs": [
    {
     "name": "stdout",
     "output_type": "stream",
     "text": [
      "NaN    443\n",
      "2      290\n",
      "4      270\n",
      "5      255\n",
      "3      250\n",
      "7      233\n",
      "6      203\n",
      "8      163\n",
      "1      158\n",
      "9      145\n",
      "10      89\n",
      "Name: hinctnta, dtype: int64\n",
      "float64\n"
     ]
    },
    {
     "name": "stderr",
     "output_type": "stream",
     "text": [
      "<ipython-input-25-6ace78e82aae>:4: SettingWithCopyWarning: \n",
      "A value is trying to be set on a copy of a slice from a DataFrame.\n",
      "Try using .loc[row_indexer,col_indexer] = value instead\n",
      "\n",
      "See the caveats in the documentation: https://pandas.pydata.org/pandas-docs/stable/user_guide/indexing.html#returning-a-view-versus-a-copy\n",
      "  df['hinctnta'] = df['hinctnta'].astype(float)\n"
     ]
    }
   ],
   "source": [
    "for x in ['.a', '.b', '.c', '.d']:\n",
    "    df.loc[df.hinctnta == x, 'hinctnta'] = np.nan  \n",
    "print(df.hinctnta.value_counts(dropna=False))\n",
    "df['hinctnta'] = df['hinctnta'].astype(float)\n",
    "print(df['hinctnta'].dtypes)"
   ]
  },
  {
   "cell_type": "code",
   "execution_count": 26,
   "metadata": {},
   "outputs": [
    {
     "name": "stdout",
     "output_type": "stream",
     "text": [
      "prtvtcat\n",
      "NEOS    6.255814\n",
      "ÖVP     5.360078\n",
      "Grüne   5.068376\n",
      "SPÖ     5.000000\n",
      "FPÖ     4.698413\n",
      "Pilz    4.280000\n",
      "Other   4.222222\n",
      "Name: hinctnta, dtype: float64\n"
     ]
    }
   ],
   "source": [
    "himean = df.groupby(['prtvtcat']).mean().sort_values('hinctnta', ascending=False)\n",
    "print(himean['hinctnta'])"
   ]
  },
  {
   "cell_type": "markdown",
   "metadata": {},
   "source": [
    "### Gender"
   ]
  },
  {
   "cell_type": "code",
   "execution_count": 27,
   "metadata": {},
   "outputs": [
    {
     "name": "stdout",
     "output_type": "stream",
     "text": [
      "2    1346\n",
      "1    1153\n",
      "Name: gndr, dtype: int64\n",
      "int64\n"
     ]
    }
   ],
   "source": [
    "print(df.gndr.value_counts(dropna=False))\n",
    "print(df['gndr'].dtypes)"
   ]
  },
  {
   "cell_type": "markdown",
   "metadata": {},
   "source": [
    "### Age"
   ]
  },
  {
   "cell_type": "code",
   "execution_count": 28,
   "metadata": {},
   "outputs": [
    {
     "name": "stdout",
     "output_type": "stream",
     "text": [
      "49    62\n",
      "52    56\n",
      "50    56\n",
      "48    54\n",
      "54    51\n",
      "      ..\n",
      "84     7\n",
      "90     6\n",
      "15     6\n",
      "87     5\n",
      "89     2\n",
      "Name: agea, Length: 77, dtype: int64\n"
     ]
    }
   ],
   "source": [
    "print(df.agea.value_counts(dropna=False))"
   ]
  },
  {
   "cell_type": "code",
   "execution_count": 29,
   "metadata": {},
   "outputs": [
    {
     "name": "stdout",
     "output_type": "stream",
     "text": [
      ".d\n",
      "90\n"
     ]
    }
   ],
   "source": [
    "print(df.agea.min())\n",
    "print(df.agea.max())"
   ]
  },
  {
   "cell_type": "code",
   "execution_count": 30,
   "metadata": {},
   "outputs": [
    {
     "name": "stdout",
     "output_type": "stream",
     "text": [
      "float64\n"
     ]
    },
    {
     "name": "stderr",
     "output_type": "stream",
     "text": [
      "<ipython-input-30-c170ab1ec060>:3: SettingWithCopyWarning: \n",
      "A value is trying to be set on a copy of a slice from a DataFrame.\n",
      "Try using .loc[row_indexer,col_indexer] = value instead\n",
      "\n",
      "See the caveats in the documentation: https://pandas.pydata.org/pandas-docs/stable/user_guide/indexing.html#returning-a-view-versus-a-copy\n",
      "  df['agea'] = df['agea'].astype(float)\n"
     ]
    }
   ],
   "source": [
    "for x in ['.a', '.b', '.c', '.d']:\n",
    "    df.loc[df.agea == x, 'agea'] = np.nan  \n",
    "df['agea'] = df['agea'].astype(float)\n",
    "print(df['agea'].dtypes)"
   ]
  },
  {
   "cell_type": "code",
   "execution_count": 31,
   "metadata": {},
   "outputs": [
    {
     "name": "stdout",
     "output_type": "stream",
     "text": [
      "prtvtcat\n",
      "ÖVP     56.362583\n",
      "SPÖ     55.136364\n",
      "FPÖ     50.883333\n",
      "Pilz    48.000000\n",
      "Other   47.000000\n",
      "Grüne   46.128788\n",
      "NEOS    44.612245\n",
      "Name: agea, dtype: float64\n"
     ]
    }
   ],
   "source": [
    "agemean = df.groupby(['prtvtcat']).mean().sort_values('agea', ascending=False)\n",
    "print(agemean['agea'])"
   ]
  },
  {
   "cell_type": "markdown",
   "metadata": {},
   "source": [
    "### Political news consumption"
   ]
  },
  {
   "cell_type": "code",
   "execution_count": 32,
   "metadata": {},
   "outputs": [
    {
     "name": "stdout",
     "output_type": "stream",
     "text": [
      "60     518\n",
      "30     509\n",
      "15     244\n",
      "10     204\n",
      "20     173\n",
      "120    167\n",
      "0      149\n",
      "45     132\n",
      "90     125\n",
      "5       88\n",
      "180     35\n",
      "40      28\n",
      "75      25\n",
      "25      13\n",
      ".d      13\n",
      "240     12\n",
      "35      10\n",
      "150     10\n",
      "2        7\n",
      "80       6\n",
      "360      5\n",
      "50       5\n",
      "300      5\n",
      "105      2\n",
      "3        2\n",
      "420      2\n",
      "70       2\n",
      "65       1\n",
      "14       1\n",
      "140      1\n",
      "130      1\n",
      "85       1\n",
      "600      1\n",
      "18       1\n",
      "1        1\n",
      "Name: nwspol, dtype: int64\n",
      "object\n"
     ]
    }
   ],
   "source": [
    "print(df.nwspol.value_counts(dropna=False))\n",
    "print(df['nwspol'].dtypes)"
   ]
  },
  {
   "cell_type": "code",
   "execution_count": 39,
   "metadata": {},
   "outputs": [
    {
     "name": "stdout",
     "output_type": "stream",
     "text": [
      "1.0\n"
     ]
    }
   ],
   "source": [
    "print(df.nwspol.min())"
   ]
  },
  {
   "cell_type": "code",
   "execution_count": 40,
   "metadata": {},
   "outputs": [
    {
     "name": "stderr",
     "output_type": "stream",
     "text": [
      "C:\\Users\\maxmo\\anaconda3\\lib\\site-packages\\pandas\\core\\indexing.py:1720: SettingWithCopyWarning: \n",
      "A value is trying to be set on a copy of a slice from a DataFrame.\n",
      "Try using .loc[row_indexer,col_indexer] = value instead\n",
      "\n",
      "See the caveats in the documentation: https://pandas.pydata.org/pandas-docs/stable/user_guide/indexing.html#returning-a-view-versus-a-copy\n",
      "  self._setitem_single_column(loc, value, pi)\n"
     ]
    }
   ],
   "source": [
    "for x in ['.a', '.b', '.c', '.d', '00 00', 0.0]:\n",
    "    df.loc[df.nwspol == x, 'nwspol'] = np.nan  "
   ]
  },
  {
   "cell_type": "code",
   "execution_count": 41,
   "metadata": {},
   "outputs": [
    {
     "name": "stdout",
     "output_type": "stream",
     "text": [
      "float64\n"
     ]
    },
    {
     "name": "stderr",
     "output_type": "stream",
     "text": [
      "<ipython-input-41-1de4007aeb67>:1: SettingWithCopyWarning: \n",
      "A value is trying to be set on a copy of a slice from a DataFrame.\n",
      "Try using .loc[row_indexer,col_indexer] = value instead\n",
      "\n",
      "See the caveats in the documentation: https://pandas.pydata.org/pandas-docs/stable/user_guide/indexing.html#returning-a-view-versus-a-copy\n",
      "  df['nwspol'] = df['nwspol'].astype(float)\n"
     ]
    }
   ],
   "source": [
    "df['nwspol'] = df['nwspol'].astype(float)\n",
    "print(df['nwspol'].dtypes)"
   ]
  },
  {
   "cell_type": "code",
   "execution_count": 42,
   "metadata": {},
   "outputs": [
    {
     "name": "stdout",
     "output_type": "stream",
     "text": [
      "prtvtcat\n",
      "Pilz    58.793103\n",
      "SPÖ     54.194690\n",
      "Grüne   54.124031\n",
      "ÖVP     50.458545\n",
      "FPÖ     49.577061\n",
      "Other   48.684211\n",
      "NEOS    44.836735\n",
      "Name: nwspol, dtype: float64\n"
     ]
    }
   ],
   "source": [
    "# looking at the mean of political news consumption accross the parties\n",
    "newsmean = df.groupby(['prtvtcat']).mean().sort_values('nwspol', ascending=False)\n",
    "print(newsmean['nwspol'])"
   ]
  },
  {
   "cell_type": "markdown",
   "metadata": {},
   "source": [
    "### Regression analyses"
   ]
  },
  {
   "cell_type": "code",
   "execution_count": 43,
   "metadata": {},
   "outputs": [],
   "source": [
    "x1 = df[['migindex', 'prtdgcl', 'edlveat','hinctnta', 'gndr', 'agea', 'nwspol', 'prtvtcat']]\n",
    "y1 = df[['migindex', 'prtdgcl', 'edlveat','hinctnta', 'gndr', 'agea', 'nwspol', 'prtvtcat']]"
   ]
  },
  {
   "cell_type": "code",
   "execution_count": 44,
   "metadata": {},
   "outputs": [],
   "source": [
    "x1 = x1.dropna()\n",
    "y1 = y1.dropna()"
   ]
  },
  {
   "cell_type": "code",
   "execution_count": 45,
   "metadata": {},
   "outputs": [],
   "source": [
    "x = x1[['migindex', 'prtdgcl', 'edlveat','hinctnta', 'gndr', 'agea', 'nwspol']]\n",
    "y = y1['prtvtcat']"
   ]
  },
  {
   "cell_type": "code",
   "execution_count": 46,
   "metadata": {},
   "outputs": [
    {
     "name": "stdout",
     "output_type": "stream",
     "text": [
      "Optimization terminated successfully.\n",
      "         Current function value: 1.270267\n",
      "         Iterations: 135\n",
      "         Function evaluations: 141\n",
      "         Gradient evaluations: 141\n",
      "                          MNLogit Regression Results                          \n",
      "==============================================================================\n",
      "Dep. Variable:               prtvtcat   No. Observations:                  904\n",
      "Model:                        MNLogit   Df Residuals:                      862\n",
      "Method:                           MLE   Df Model:                           36\n",
      "Date:                Sun, 30 May 2021   Pseudo R-squ.:                  0.1186\n",
      "Time:                        21:59:25   Log-Likelihood:                -1148.3\n",
      "converged:                       True   LL-Null:                       -1302.9\n",
      "Covariance Type:            nonrobust   LLR p-value:                 3.834e-45\n",
      "================================================================================\n",
      "prtvtcat=Grüne       coef    std err          z      P>|z|      [0.025      0.975]\n",
      "----------------------------------------------------------------------------------\n",
      "migindex          -0.7593      0.074    -10.255      0.000      -0.904      -0.614\n",
      "prtdgcl            0.1609      0.258      0.624      0.533      -0.345       0.666\n",
      "edlveat            0.1881      0.043      4.325      0.000       0.103       0.273\n",
      "hinctnta           0.0516      0.063      0.824      0.410      -0.071       0.174\n",
      "gndr               1.2970      0.301      4.309      0.000       0.707       1.887\n",
      "agea               0.0070      0.009      0.787      0.431      -0.010       0.025\n",
      "nwspol            -0.0017      0.003     -0.548      0.584      -0.008       0.004\n",
      "----------------------------------------------------------------------------------\n",
      "prtvtcat=NEOS       coef    std err          z      P>|z|      [0.025      0.975]\n",
      "---------------------------------------------------------------------------------\n",
      "migindex         -0.5279      0.094     -5.608      0.000      -0.712      -0.343\n",
      "prtdgcl           0.3757      0.356      1.055      0.291      -0.322       1.074\n",
      "edlveat           0.1134      0.059      1.914      0.056      -0.003       0.229\n",
      "hinctnta          0.1774      0.087      2.031      0.042       0.006       0.349\n",
      "gndr              0.0370      0.414      0.089      0.929      -0.775       0.849\n",
      "agea             -0.0077      0.013     -0.604      0.546      -0.032       0.017\n",
      "nwspol           -0.0032      0.005     -0.666      0.506      -0.013       0.006\n",
      "---------------------------------------------------------------------------------\n",
      "prtvtcat=Other       coef    std err          z      P>|z|      [0.025      0.975]\n",
      "----------------------------------------------------------------------------------\n",
      "migindex          -0.6868      0.206     -3.333      0.001      -1.091      -0.283\n",
      "prtdgcl            1.2304      0.724      1.700      0.089      -0.188       2.649\n",
      "edlveat           -0.2505      0.204     -1.230      0.219      -0.650       0.149\n",
      "hinctnta          -0.0330      0.200     -0.165      0.869      -0.425       0.359\n",
      "gndr              -0.0531      0.890     -0.060      0.952      -1.798       1.691\n",
      "agea               0.0088      0.025      0.351      0.726      -0.041       0.058\n",
      "nwspol             0.0049      0.006      0.776      0.438      -0.007       0.017\n",
      "----------------------------------------------------------------------------------\n",
      "prtvtcat=Pilz       coef    std err          z      P>|z|      [0.025      0.975]\n",
      "---------------------------------------------------------------------------------\n",
      "migindex         -0.5679      0.122     -4.664      0.000      -0.807      -0.329\n",
      "prtdgcl          -0.0316      0.458     -0.069      0.945      -0.928       0.865\n",
      "edlveat           0.1800      0.069      2.611      0.009       0.045       0.315\n",
      "hinctnta         -0.1066      0.113     -0.946      0.344      -0.327       0.114\n",
      "gndr              0.5506      0.506      1.089      0.276      -0.441       1.542\n",
      "agea              0.0038      0.015      0.246      0.806      -0.026       0.034\n",
      "nwspol           -0.0019      0.005     -0.348      0.728      -0.013       0.009\n",
      "---------------------------------------------------------------------------------\n",
      "prtvtcat=SPÖ       coef    std err          z      P>|z|      [0.025      0.975]\n",
      "--------------------------------------------------------------------------------\n",
      "migindex        -0.3174      0.042     -7.539      0.000      -0.400      -0.235\n",
      "prtdgcl          0.0695      0.164      0.423      0.672      -0.252       0.391\n",
      "edlveat          0.0714      0.034      2.080      0.038       0.004       0.139\n",
      "hinctnta         0.0629      0.043      1.449      0.147      -0.022       0.148\n",
      "gndr             0.4484      0.199      2.249      0.025       0.058       0.839\n",
      "agea             0.0320      0.006      5.690      0.000       0.021       0.043\n",
      "nwspol          -0.0009      0.002     -0.405      0.686      -0.005       0.003\n",
      "--------------------------------------------------------------------------------\n",
      "prtvtcat=ÖVP       coef    std err          z      P>|z|      [0.025      0.975]\n",
      "--------------------------------------------------------------------------------\n",
      "migindex        -0.2545      0.041     -6.207      0.000      -0.335      -0.174\n",
      "prtdgcl          0.3097      0.162      1.914      0.056      -0.007       0.627\n",
      "edlveat          0.0092      0.035      0.262      0.793      -0.060       0.078\n",
      "hinctnta         0.1061      0.043      2.471      0.013       0.022       0.190\n",
      "gndr             0.1817      0.199      0.915      0.360      -0.208       0.571\n",
      "agea             0.0261      0.006      4.713      0.000       0.015       0.037\n",
      "nwspol          -0.0013      0.002     -0.580      0.562      -0.006       0.003\n",
      "================================================================================\n"
     ]
    }
   ],
   "source": [
    "mnlogit_mod = sm.MNLogit(y, x)\n",
    "mnlogit_fit = mnlogit_mod.fit(method='bfgs', maxiter = 300)\n",
    "\n",
    "print (mnlogit_fit.summary())"
   ]
  },
  {
   "cell_type": "markdown",
   "metadata": {},
   "source": [
    "Looking at the regression table, a pattern concerning the migration index can be observed. Its effect is statistically significant amongst all categories. Starting with the \"Grüne\" party, if the migration index rises by one unit, the chance of a vote for the \"Grüne\" in comparison to the \"FPÖ\" (reference category) drops by 76%. This trend looks similiar around all left wing parties like \"Pilz\" and \"Others\" (mostly small communist parties). For the \"NEOS\", a neoliberal pary, the chance of a vote drops by 53%, which suggests a rather positiv attidue toward migration among its voters for a neoliberal party. The \"SPÖ\" marks a rather surprising case: Its chance of losing a vote to the \"FPÖ\" if the migration index rises by one unit only drops by 32%, which means a surprisingly negative political stance toward the issue of migration for a social democratic party. Unsurprisingly, the logit coefficient of the \"ÖVP\", the second right wing party among the \"FPÖ\", drops the least (25%) in comparison to all other parties, confirming the hypothesis."
   ]
  },
  {
   "cell_type": "markdown",
   "metadata": {},
   "source": [
    "### References"
   ]
  },
  {
   "cell_type": "markdown",
   "metadata": {},
   "source": [
    "Campbell, Angus, Philip E. Converse, Warren E. Miller und Donald F. Stokes. 1960. The American Voter. New York: Wiley."
   ]
  },
  {
   "cell_type": "markdown",
   "metadata": {},
   "source": [
    "ESS Round 9: European Social Survey Round 9 Data (2018). Data file edition 3.1. NSD - Norwegian Centre for Research Data, Norway – Data Archive and distributor of ESS data for ESS ERIC. doi:10.21338/NSD-ESS9-2018."
   ]
  }
 ],
 "metadata": {
  "kernelspec": {
   "display_name": "Python 3",
   "language": "python",
   "name": "python3"
  },
  "language_info": {
   "codemirror_mode": {
    "name": "ipython",
    "version": 3
   },
   "file_extension": ".py",
   "mimetype": "text/x-python",
   "name": "python",
   "nbconvert_exporter": "python",
   "pygments_lexer": "ipython3",
   "version": "3.8.5"
  }
 },
 "nbformat": 4,
 "nbformat_minor": 4
}
